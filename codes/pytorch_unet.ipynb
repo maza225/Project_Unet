{
 "cells": [
  {
   "cell_type": "code",
   "execution_count": null,
   "metadata": {},
   "outputs": [
    {
     "ename": "Error",
     "evalue": "Jupyter cannot be started. Error attempting to locate jupyter: ",
     "output_type": "error",
     "traceback": [
      "Error: Jupyter cannot be started. Error attempting to locate jupyter:",
      "at A.startServer (/users/eleves-b/2017/mohamed.traore/.vscode/extensions/ms-python.python-2020.2.64397/out/client/extension.js:1:786120)",
      "at async A.ensureServerAndNotebookImpl (/users/eleves-b/2017/mohamed.traore/.vscode/extensions/ms-python.python-2020.2.64397/out/client/extension.js:1:785575)",
      "at async A.ensureServerAndNotebook (/users/eleves-b/2017/mohamed.traore/.vscode/extensions/ms-python.python-2020.2.64397/out/client/extension.js:1:785376)",
      "at async A.submitCode (/users/eleves-b/2017/mohamed.traore/.vscode/extensions/ms-python.python-2020.2.64397/out/client/extension.js:1:782328)",
      "at async A.reexecuteCell (/users/eleves-b/2017/mohamed.traore/.vscode/extensions/ms-python.python-2020.2.64397/out/client/extension.js:75:879318)"
     ]
    }
   ],
   "source": [
    "%matplotlib inline\n",
    "%load_ext autoreload\n",
    "%autoreload 2\n",
    "\n",
    "import os,sys\n",
    "import matplotlib.pyplot as plt\n",
    "import numpy as np\n",
    "import helper\n",
    "\n"
   ]
  },
  {
   "cell_type": "code",
   "execution_count": 8,
   "metadata": {},
   "outputs": [
    {
     "data": {
      "text/plain": "{'train': 24, 'val': 24}"
     },
     "execution_count": 8,
     "metadata": {},
     "output_type": "execute_result"
    }
   ],
   "source": [
    "from dataloader import *\n",
    "\n",
    "# use same transform for train/val for this example\n",
    "\n",
    "trans = transforms.Compose([\n",
    "   transforms.CenterCrop((200,300)), transforms.ToTensor(),\n",
    "])\n",
    "\n",
    "data_train='/users/eleves-b/2017/mohamed.traore/MAP583/dataset/train'\n",
    "data_valid='/users/eleves-b/2017/mohamed.traore/MAP583/dataset/valid'\n",
    "train_set = Pick_images(data_train,transform = trans)\n",
    "val_set = Pick_images(data_valid,transform = trans)\n",
    "\n",
    "image_datasets = {\n",
    "    'train': train_set, 'val': val_set\n",
    "}\n",
    "\n",
    "batch_size = 5\n",
    "\n",
    "dataloaders = {\n",
    "    'train': DataLoader(train_set, batch_size=batch_size, shuffle=True, num_workers=0),\n",
    "    'val': DataLoader(val_set, batch_size=batch_size, shuffle=True, num_workers=0)\n",
    "}\n",
    "\n",
    "dataset_sizes = {\n",
    "    x: len(image_datasets[x]) for x in image_datasets.keys()\n",
    "}\n",
    "\n",
    "dataset_sizes\n",
    "\n",
    "\n"
   ]
  },
  {
   "cell_type": "code",
   "execution_count": 11,
   "metadata": {},
   "outputs": [],
   "source": [
    "import torch\n",
    "import torch.nn as nn\n",
    "import pytorch_unet\n",
    "\n",
    "device = torch.device('cuda' if torch.cuda.is_available() else 'cpu')\n"
   ]
  },
  {
   "cell_type": "code",
   "execution_count": 12,
   "metadata": {},
   "outputs": [],
   "source": [
    "for images, masks in dataloaders[\"train\"]:\n",
    "                images = images.to(device)\n",
    "                masks = masks.to(device)  \n",
    "                break;           \n"
   ]
  },
  {
   "cell_type": "code",
   "execution_count": 15,
   "metadata": {},
   "outputs": [
    {
     "data": {
      "text/plain": "tensor([[[[0.0667, 0.0902, 0.1176,  ..., 0.5765, 0.5686, 0.5490],\n          [0.0667, 0.0824, 0.1176,  ..., 0.5647, 0.5647, 0.5529],\n          [0.0824, 0.1020, 0.1098,  ..., 0.5647, 0.5647, 0.5529],\n          ...,\n          [0.0784, 0.0784, 0.0745,  ..., 0.0784, 0.0745, 0.0706],\n          [0.0745, 0.0745, 0.0745,  ..., 0.0784, 0.0745, 0.0706],\n          [0.0824, 0.0863, 0.0902,  ..., 0.0706, 0.0706, 0.0667]],\n\n         [[0.0824, 0.1059, 0.1333,  ..., 0.6627, 0.6549, 0.6353],\n          [0.0784, 0.0980, 0.1333,  ..., 0.6510, 0.6510, 0.6392],\n          [0.0863, 0.1059, 0.1294,  ..., 0.6510, 0.6510, 0.6392],\n          ...,\n          [0.0941, 0.0941, 0.0902,  ..., 0.1098, 0.1059, 0.1020],\n          [0.0902, 0.0902, 0.0902,  ..., 0.1020, 0.1020, 0.0980],\n          [0.0863, 0.0902, 0.0941,  ..., 0.1020, 0.1020, 0.0980]],\n\n         [[0.0784, 0.1020, 0.1412,  ..., 0.7059, 0.6980, 0.6784],\n          [0.0824, 0.0941, 0.1333,  ..., 0.6941, 0.6941, 0.6824],\n          [0.0941, 0.1098, 0.1255,  ..., 0.6941, 0.6941, 0.6824],\n          ...,\n          [0.0902, 0.0902, 0.0941,  ..., 0.1255, 0.1216, 0.1176],\n          [0.0863, 0.0863, 0.0941,  ..., 0.1216, 0.1176, 0.1137],\n          [0.0863, 0.0902, 0.1020,  ..., 0.1176, 0.1176, 0.1137]]],\n\n\n        [[[0.4902, 0.4157, 0.0667,  ..., 0.3922, 0.3059, 0.6706],\n          [0.5059, 0.4118, 0.0549,  ..., 0.3765, 0.2510, 0.6235],\n          [0.5059, 0.4157, 0.0588,  ..., 0.1725, 0.1608, 0.3098],\n          ...,\n          [0.0824, 0.0824, 0.0863,  ..., 0.0588, 0.0588, 0.0588],\n          [0.0824, 0.0824, 0.0824,  ..., 0.0549, 0.0549, 0.0510],\n          [0.0824, 0.0824, 0.0784,  ..., 0.0549, 0.0549, 0.0549]],\n\n         [[0.5922, 0.5176, 0.1176,  ..., 0.4314, 0.3490, 0.7686],\n          [0.6039, 0.5176, 0.1137,  ..., 0.4392, 0.3176, 0.7176],\n          [0.6039, 0.5216, 0.1176,  ..., 0.2235, 0.2157, 0.3804],\n          ...,\n          [0.0980, 0.0980, 0.1020,  ..., 0.0706, 0.0745, 0.0745],\n          [0.1059, 0.1059, 0.1059,  ..., 0.0706, 0.0745, 0.0745],\n          [0.1059, 0.1059, 0.1020,  ..., 0.0706, 0.0784, 0.0784]],\n\n         [[0.6471, 0.5569, 0.1725,  ..., 0.4510, 0.3843, 0.7490],\n          [0.6510, 0.5608, 0.1647,  ..., 0.4314, 0.3098, 0.6706],\n          [0.6510, 0.5647, 0.1686,  ..., 0.2157, 0.1882, 0.3294],\n          ...,\n          [0.1098, 0.1098, 0.1137,  ..., 0.0824, 0.0863, 0.0863],\n          [0.1137, 0.1137, 0.1137,  ..., 0.0824, 0.0863, 0.0824],\n          [0.1137, 0.1137, 0.1098,  ..., 0.0824, 0.0863, 0.0863]]],\n\n\n        [[[0.2000, 0.0784, 0.0392,  ..., 0.5647, 0.5647, 0.5608],\n          [0.2078, 0.1333, 0.0863,  ..., 0.5647, 0.5490, 0.5569],\n          [0.1255, 0.3686, 0.1608,  ..., 0.5686, 0.5608, 0.5725],\n          ...,\n          [0.0980, 0.0980, 0.0980,  ..., 0.0863, 0.0902, 0.0863],\n          [0.1098, 0.1098, 0.1098,  ..., 0.0824, 0.0941, 0.0863],\n          [0.0980, 0.0980, 0.0980,  ..., 0.0784, 0.0902, 0.0824]],\n\n         [[0.2824, 0.1412, 0.0667,  ..., 0.6431, 0.6431, 0.6392],\n          [0.2745, 0.2039, 0.1216,  ..., 0.6392, 0.6235, 0.6314],\n          [0.1843, 0.4471, 0.2078,  ..., 0.6431, 0.6353, 0.6471],\n          ...,\n          [0.1020, 0.1020, 0.1020,  ..., 0.1176, 0.1137, 0.1098],\n          [0.1137, 0.1137, 0.1137,  ..., 0.1137, 0.1255, 0.1176],\n          [0.1020, 0.1020, 0.1020,  ..., 0.1098, 0.1216, 0.1137]],\n\n         [[0.2863, 0.1608, 0.0902,  ..., 0.6745, 0.6745, 0.6706],\n          [0.3098, 0.2353, 0.1569,  ..., 0.6745, 0.6588, 0.6667],\n          [0.2235, 0.4824, 0.2471,  ..., 0.6784, 0.6706, 0.6824],\n          ...,\n          [0.1098, 0.1098, 0.1098,  ..., 0.1333, 0.1333, 0.1294],\n          [0.1216, 0.1216, 0.1216,  ..., 0.1294, 0.1412, 0.1333],\n          [0.1098, 0.1098, 0.1098,  ..., 0.1255, 0.1373, 0.1294]]],\n\n\n        [[[0.0627, 0.0745, 0.1216,  ..., 0.5961, 0.5725, 0.5922],\n          [0.0784, 0.0706, 0.1255,  ..., 0.6000, 0.5725, 0.6000],\n          [0.0863, 0.0863, 0.1412,  ..., 0.6000, 0.5843, 0.5922],\n          ...,\n          [0.0745, 0.0706, 0.0667,  ..., 0.0627, 0.0588, 0.0667],\n          [0.0784, 0.0784, 0.0824,  ..., 0.0627, 0.0588, 0.0667],\n          [0.0784, 0.0706, 0.0667,  ..., 0.0588, 0.0549, 0.0627]],\n\n         [[0.0784, 0.0745, 0.1255,  ..., 0.6784, 0.6549, 0.6706],\n          [0.0863, 0.0706, 0.1333,  ..., 0.6824, 0.6549, 0.6824],\n          [0.0863, 0.0824, 0.1569,  ..., 0.6824, 0.6667, 0.6745],\n          ...,\n          [0.0902, 0.0863, 0.0824,  ..., 0.0784, 0.0745, 0.0706],\n          [0.0863, 0.0863, 0.0902,  ..., 0.0784, 0.0745, 0.0706],\n          [0.0941, 0.0863, 0.0824,  ..., 0.0745, 0.0706, 0.0667]],\n\n         [[0.0784, 0.0863, 0.1373,  ..., 0.7098, 0.6863, 0.7059],\n          [0.0824, 0.0863, 0.1569,  ..., 0.7137, 0.6863, 0.7137],\n          [0.0902, 0.1098, 0.1725,  ..., 0.7137, 0.6980, 0.7059],\n          ...,\n          [0.0941, 0.0902, 0.0863,  ..., 0.0824, 0.0784, 0.0784],\n          [0.0941, 0.0941, 0.0980,  ..., 0.0863, 0.0824, 0.0824],\n          [0.0980, 0.0902, 0.0863,  ..., 0.0784, 0.0745, 0.0745]]],\n\n\n        [[[0.0510, 0.0471, 0.0510,  ..., 0.6000, 0.5922, 0.6157],\n          [0.0353, 0.0392, 0.0392,  ..., 0.6039, 0.5882, 0.6196],\n          [0.0471, 0.0392, 0.0392,  ..., 0.6078, 0.5961, 0.6118],\n          ...,\n          [0.0902, 0.0863, 0.0902,  ..., 0.0627, 0.0549, 0.0549],\n          [0.0824, 0.0824, 0.0784,  ..., 0.0588, 0.0549, 0.0549],\n          [0.0784, 0.0745, 0.0745,  ..., 0.0588, 0.0588, 0.0588]],\n\n         [[0.0549, 0.0471, 0.0510,  ..., 0.6902, 0.6745, 0.6980],\n          [0.0510, 0.0431, 0.0431,  ..., 0.6941, 0.6706, 0.7020],\n          [0.0471, 0.0431, 0.0431,  ..., 0.6941, 0.6784, 0.6941],\n          ...,\n          [0.0941, 0.0902, 0.0941,  ..., 0.0784, 0.0745, 0.0745],\n          [0.0980, 0.0980, 0.0941,  ..., 0.0745, 0.0745, 0.0784],\n          [0.0941, 0.0902, 0.0902,  ..., 0.0745, 0.0745, 0.0745]],\n\n         [[0.0549, 0.0392, 0.0431,  ..., 0.7216, 0.7176, 0.7294],\n          [0.0471, 0.0392, 0.0392,  ..., 0.7294, 0.7137, 0.7333],\n          [0.0471, 0.0431, 0.0431,  ..., 0.7373, 0.7216, 0.7255],\n          ...,\n          [0.1020, 0.0980, 0.1098,  ..., 0.0902, 0.0824, 0.0784],\n          [0.1020, 0.1020, 0.1059,  ..., 0.0863, 0.0863, 0.0863],\n          [0.0980, 0.0941, 0.1020,  ..., 0.0863, 0.0863, 0.0863]]]])"
     },
     "execution_count": 15,
     "metadata": {},
     "output_type": "execute_result"
    }
   ],
   "source": [
    "masks"
   ]
  },
  {
   "cell_type": "code",
   "execution_count": 3,
   "metadata": {},
   "outputs": [],
   "source": [
    "# from torch import summary\n",
    "\n",
    "model = pytorch_unet.UNet()\n",
    "model = model.to(device)\n",
    "# print(model)\n",
    "# summary(model, input_size=(3, 224, 224))"
   ]
  },
  {
   "cell_type": "code",
   "execution_count": 4,
   "metadata": {},
   "outputs": [],
   "source": [
    "from collections import defaultdict\n",
    "import torch.nn.functional as F\n",
    "# from loss import dice_loss\n",
    "import torch.nn as nn\n",
    "\n",
    "criterion = nn.MSELoss() \n",
    "\n",
    "def train_model(model, optimizer, scheduler, criterion ,num_epochs=25):\n",
    "    best_model_wts = copy.deepcopy(model.state_dict())\n",
    "    best_loss = 1e10\n",
    "\n",
    "    for epoch in range(num_epochs):\n",
    "        print('Epoch {}/{}'.format(epoch, num_epochs - 1))\n",
    "        print('-' * 10)\n",
    "        \n",
    "        since = time.time()\n",
    "\n",
    "        # Each epoch has a training and validation phase\n",
    "        for phase in ['train', 'val']:\n",
    "            if phase == 'train':\n",
    "                scheduler.step()\n",
    "                for param_group in optimizer.param_groups:\n",
    "                    print(\"LR\", param_group['lr'])\n",
    "                    \n",
    "                model.train()  # Set model to training mode\n",
    "            else:\n",
    "                model.eval()   # Set model to evaluate mode\n",
    "\n",
    "            # metrics = defaultdict(float)\n",
    "            epoch_samples = 0\n",
    "            \n",
    "            for images, masks in dataloaders[phase]:\n",
    "                images = images.to(device)\n",
    "                masks = masks.to(device)             \n",
    "\n",
    "                # zero the parameter gradients\n",
    "                optimizer.zero_grad()\n",
    "\n",
    "                # forward\n",
    "                # track history if only in train\n",
    "                with torch.set_grad_enabled(phase == 'train'):\n",
    "                    outputs = model(masks)\n",
    "                    loss=criterion(outputs,images)\n",
    "\n",
    "                    # backward + optimize only if in training phase\n",
    "                    if phase == 'train':\n",
    "                        loss.backward()\n",
    "                        optimizer.step()\n",
    "\n",
    "                # statistics\n",
    "                epoch_samples = images.size(0)\n",
    "\n",
    "            epoch_loss = loss / epoch_samples\n",
    "\n",
    "            # deep copy the model\n",
    "            if phase == 'val' and epoch_loss < best_loss:\n",
    "                print(\"saving best model\")\n",
    "                best_loss = epoch_loss\n",
    "                best_model_wts = copy.deepcopy(model.state_dict())\n",
    "\n",
    "        time_elapsed = time.time() - since\n",
    "        print('{:.0f}m {:.0f}s'.format(time_elapsed // 60, time_elapsed % 60))\n",
    "    print('Best val loss: {:4f}'.format(best_loss))\n",
    "\n",
    "    # load best model weights\n",
    "    model.load_state_dict(best_model_wts)\n",
    "    return model"
   ]
  },
  {
   "cell_type": "code",
   "execution_count": 11,
   "metadata": {},
   "outputs": [
    {
     "name": "stdout",
     "output_type": "stream",
     "text": "Epoch 0/0\n----------\nLR 0.0001\n"
    }
   ],
   "source": [
    "import torch\n",
    "import torch.optim as optim\n",
    "from torch.optim import lr_scheduler\n",
    "import time\n",
    "import copy\n",
    "\n",
    "# Observe that all parameters are being optimized\n",
    "optimizer_ft = optim.Adam(model.parameters(), lr=1e-4) ### Decay\n",
    "\n",
    "exp_lr_scheduler = lr_scheduler.StepLR(optimizer_ft, step_size=25, gamma=0.1)\n",
    "\n",
    "model = train_model(model, optimizer_ft, exp_lr_scheduler,criterion, num_epochs=1)"
   ]
  },
  {
   "cell_type": "code",
   "execution_count": 8,
   "metadata": {},
   "outputs": [
    {
     "name": "stdout",
     "output_type": "stream",
     "text": [
      "(3, 6, 192, 192)\n"
     ]
    },
    {
     "data": {
      "image/png": "[encoded data removed]",
      "text/plain": [
       "<Figure size 864x864 with 9 Axes>"
      ]
     },
     "metadata": {},
     "output_type": "display_data"
    }
   ],
   "source": [
    "# prediction\n",
    "\n",
    "import math\n",
    "\n",
    "model.eval()   # Set model to evaluate mode\n",
    "\n",
    "test_dataset = SimDataset(3, transform = trans)\n",
    "test_loader = DataLoader(test_dataset, batch_size=3, shuffle=False, num_workers=0)\n",
    "        \n",
    "inputs, labels = next(iter(test_loader))\n",
    "inputs = inputs.to(device)\n",
    "labels = labels.to(device)\n",
    "\n",
    "pred = model(inputs)\n",
    "\n",
    "pred = pred.data.cpu().numpy()\n",
    "print(pred.shape)\n",
    "\n"
   ]
  }
 ],
 "metadata": {
  "kernelspec": {
   "display_name": "Python 3.7.3 64-bit ('base': conda)",
   "language": "python",
   "name": "python37364bitbaseconda48e1674539fa45a484fa842f18142d1f"
  },
  "language_info": {
   "codemirror_mode": {
    "name": "ipython",
    "version": 3
   },
   "file_extension": ".py",
   "mimetype": "text/x-python",
   "name": "python",
   "nbconvert_exporter": "python",
   "pygments_lexer": "ipython3",
   "version": "3.7.3-final"
  }
 },
 "nbformat": 4,
 "nbformat_minor": 2
}