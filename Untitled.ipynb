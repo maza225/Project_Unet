{
 "cells": [
  {
   "cell_type": "code",
   "execution_count": 1,
   "metadata": {},
   "outputs": [
    {
     "ename": "NameError",
     "evalue": "name 'true' is not defined",
     "output_type": "error",
     "traceback": [
      "\u001b[0;31m---------------------------------------------------------------------------\u001b[0m",
      "\u001b[0;31mNameError\u001b[0m                                 Traceback (most recent call last)",
      "\u001b[0;32m<ipython-input-1-1b4fccc9aab0>\u001b[0m in \u001b[0;36m<module>\u001b[0;34m\u001b[0m\n\u001b[1;32m      8\u001b[0m       \u001b[0;34m\"collapsed_sections\"\u001b[0m\u001b[0;34m:\u001b[0m \u001b[0;34m[\u001b[0m\u001b[0;34m]\u001b[0m\u001b[0;34m,\u001b[0m\u001b[0;34m\u001b[0m\u001b[0;34m\u001b[0m\u001b[0m\n\u001b[1;32m      9\u001b[0m       \u001b[0;34m\"authorship_tag\"\u001b[0m\u001b[0;34m:\u001b[0m \u001b[0;34m\"ABX9TyPAUTZwaksyx3OAylvgNs55\"\u001b[0m\u001b[0;34m,\u001b[0m\u001b[0;34m\u001b[0m\u001b[0;34m\u001b[0m\u001b[0m\n\u001b[0;32m---> 10\u001b[0;31m       \u001b[0;34m\"include_colab_link\"\u001b[0m\u001b[0;34m:\u001b[0m \u001b[0mtrue\u001b[0m\u001b[0;34m\u001b[0m\u001b[0;34m\u001b[0m\u001b[0m\n\u001b[0m\u001b[1;32m     11\u001b[0m     },\n\u001b[1;32m     12\u001b[0m     \"kernelspec\": {\n",
      "\u001b[0;31mNameError\u001b[0m: name 'true' is not defined"
     ]
    }
   ],
   "source": [
    "{\n",
    "  \"nbformat\": 4,\n",
    "  \"nbformat_minor\": 0,\n",
    "  \"metadata\": {\n",
    "    \"colab\": {\n",
    "      \"name\": \"Untitled5.ipynb\",\n",
    "      \"provenance\": [],\n",
    "      \"collapsed_sections\": [],\n",
    "      \"authorship_tag\": \"ABX9TyPAUTZwaksyx3OAylvgNs55\",\n",
    "      \"include_colab_link\": true\n",
    "    },\n",
    "    \"kernelspec\": {\n",
    "      \"name\": \"python3\",\n",
    "      \"display_name\": \"Python 3\"\n",
    "    }\n",
    "  },\n",
    "  \"cells\": [\n",
    "    {\n",
    "      \"cell_type\": \"markdown\",\n",
    "      \"metadata\": {\n",
    "        \"id\": \"view-in-github\",\n",
    "        \"colab_type\": \"text\"\n",
    "      },\n",
    "      \"source\": [\n",
    "        \"<a href=\\\"https://colab.research.google.com/github/maza225/Project_Unet/blob/master/Untitled5.ipynb\\\" target=\\\"_parent\\\"><img src=\\\"https://colab.research.google.com/assets/colab-badge.svg\\\" alt=\\\"Open In Colab\\\"/></a>\"\n",
    "      ]\n",
    "    },\n",
    "    {\n",
    "      \"cell_type\": \"code\",\n",
    "      \"metadata\": {\n",
    "        \"id\": \"cuBbgytpvRB5\",\n",
    "        \"colab_type\": \"code\",\n",
    "        \"colab\": {\n",
    "          \"base_uri\": \"https://localhost:8080/\",\n",
    "          \"height\": 34\n",
    "        },\n",
    "        \"outputId\": \"ee1759bf-a7c7-48e9-ffd4-cedabcf4b38b\"\n",
    "      },\n",
    "      \"source\": [\n",
    "        \"print ( \\\"hello\\\")\"\n",
    "      ],\n",
    "      \"execution_count\": 1,\n",
    "      \"outputs\": [\n",
    "        {\n",
    "          \"output_type\": \"stream\",\n",
    "          \"text\": [\n",
    "            \"hello\\n\"\n",
    "          ],\n",
    "          \"name\": \"stdout\"\n",
    "        }\n",
    "      ]\n",
    "    }\n",
    "  ]\n",
    "}"
   ]
  },
  {
   "cell_type": "code",
   "execution_count": null,
   "metadata": {},
   "outputs": [],
   "source": []
  }
 ],
 "metadata": {
  "kernelspec": {
   "display_name": "Python 3.7.3 64-bit ('base': conda)",
   "language": "python",
   "name": "python37364bitbaseconda48e1674539fa45a484fa842f18142d1f"
  },
  "language_info": {
   "codemirror_mode": {
    "name": "ipython",
    "version": 3
   },
   "file_extension": ".py",
   "mimetype": "text/x-python",
   "name": "python",
   "nbconvert_exporter": "python",
   "pygments_lexer": "ipython3",
   "version": "3.7.3"
  }
 },
 "nbformat": 4,
 "nbformat_minor": 2
}
